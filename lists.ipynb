{
 "cells": [
  {
   "cell_type": "markdown",
   "id": "5ff39919",
   "metadata": {},
   "source": [
    "# data structures"
   ]
  },
  {
   "cell_type": "code",
   "execution_count": 2,
   "id": "c9cb04fb",
   "metadata": {},
   "outputs": [],
   "source": [
    "name = 'kavin'\n",
    "\n",
    "eng = 88\n",
    "mat = 97\n",
    "sci = 87\n",
    "hin = 90"
   ]
  },
  {
   "cell_type": "code",
   "execution_count": 3,
   "id": "c3066e40",
   "metadata": {},
   "outputs": [
    {
     "name": "stdout",
     "output_type": "stream",
     "text": [
      "90.5\n"
     ]
    }
   ],
   "source": [
    "print((eng + mat + sci + hin)/4)"
   ]
  },
  {
   "cell_type": "code",
   "execution_count": null,
   "id": "ac78f17a",
   "metadata": {},
   "outputs": [],
   "source": [
    "\n"
   ]
  },
  {
   "cell_type": "code",
   "execution_count": 4,
   "id": "e35c24bd",
   "metadata": {},
   "outputs": [],
   "source": [
    "names = []"
   ]
  },
  {
   "cell_type": "code",
   "execution_count": 7,
   "id": "65df16c4",
   "metadata": {},
   "outputs": [],
   "source": [
    "names.append('kavin')"
   ]
  },
  {
   "cell_type": "code",
   "execution_count": 8,
   "id": "a4758994",
   "metadata": {},
   "outputs": [
    {
     "data": {
      "text/plain": [
       "['kavin']"
      ]
     },
     "execution_count": 8,
     "metadata": {},
     "output_type": "execute_result"
    }
   ],
   "source": [
    "names"
   ]
  },
  {
   "cell_type": "code",
   "execution_count": 11,
   "id": "1ff19fa9",
   "metadata": {},
   "outputs": [],
   "source": [
    "names.append('anish')"
   ]
  },
  {
   "cell_type": "code",
   "execution_count": 12,
   "id": "2af5c094",
   "metadata": {},
   "outputs": [
    {
     "data": {
      "text/plain": [
       "['kavin', 'anish']"
      ]
     },
     "execution_count": 12,
     "metadata": {},
     "output_type": "execute_result"
    }
   ],
   "source": [
    "names"
   ]
  },
  {
   "cell_type": "code",
   "execution_count": null,
   "id": "8d147608",
   "metadata": {},
   "outputs": [],
   "source": []
  },
  {
   "cell_type": "code",
   "execution_count": null,
   "id": "587cc6b1",
   "metadata": {},
   "outputs": [],
   "source": []
  },
  {
   "cell_type": "code",
   "execution_count": 22,
   "id": "7b78b95e",
   "metadata": {},
   "outputs": [],
   "source": []
  },
  {
   "cell_type": "code",
   "execution_count": null,
   "id": "8314a671",
   "metadata": {},
   "outputs": [],
   "source": []
  },
  {
   "cell_type": "code",
   "execution_count": 32,
   "id": "6a357728",
   "metadata": {},
   "outputs": [],
   "source": [
    "names=[]"
   ]
  },
  {
   "cell_type": "code",
   "execution_count": 33,
   "id": "645c72c4",
   "metadata": {},
   "outputs": [
    {
     "name": "stdout",
     "output_type": "stream",
     "text": [
      "enter no of students = 3\n",
      "enter the student name = kavin\n",
      "kavin saved in the list\n",
      "enter the student name = anish\n",
      "anish saved in the list\n",
      "enter the student name = abi\n",
      "abi saved in the list\n"
     ]
    }
   ],
   "source": [
    "no_of_students = int(input('enter no of students = '))\n",
    "\n",
    "for i in range(no_of_students):\n",
    "    \n",
    "    name= input('enter the student name = ')\n",
    "    \n",
    "    names.append(name)\n",
    "    print(name,'saved in the list')"
   ]
  },
  {
   "cell_type": "code",
   "execution_count": 34,
   "id": "43122d59",
   "metadata": {},
   "outputs": [
    {
     "data": {
      "text/plain": [
       "['kavin', 'anish', 'abi']"
      ]
     },
     "execution_count": 34,
     "metadata": {},
     "output_type": "execute_result"
    }
   ],
   "source": [
    "names"
   ]
  },
  {
   "cell_type": "code",
   "execution_count": null,
   "id": "1fabe8f7",
   "metadata": {},
   "outputs": [],
   "source": [
    "\n"
   ]
  },
  {
   "cell_type": "code",
   "execution_count": null,
   "id": "e36f7a9c",
   "metadata": {},
   "outputs": [],
   "source": []
  },
  {
   "cell_type": "code",
   "execution_count": null,
   "id": "d77649b3",
   "metadata": {},
   "outputs": [],
   "source": []
  },
  {
   "cell_type": "code",
   "execution_count": null,
   "id": "6bdd6783",
   "metadata": {},
   "outputs": [],
   "source": []
  },
  {
   "cell_type": "code",
   "execution_count": null,
   "id": "a941581a",
   "metadata": {},
   "outputs": [],
   "source": [
    "\n",
    "\n"
   ]
  },
  {
   "cell_type": "code",
   "execution_count": null,
   "id": "538c61d6",
   "metadata": {},
   "outputs": [],
   "source": [
    "\n"
   ]
  },
  {
   "cell_type": "code",
   "execution_count": null,
   "id": "3dd07821",
   "metadata": {},
   "outputs": [],
   "source": []
  },
  {
   "cell_type": "code",
   "execution_count": 5,
   "id": "840e8683",
   "metadata": {},
   "outputs": [],
   "source": [
    "names=[]\n",
    "\n",
    "eng=[]\n",
    "mat=[]\n",
    "sci=[]"
   ]
  },
  {
   "cell_type": "code",
   "execution_count": 6,
   "id": "084943fd",
   "metadata": {},
   "outputs": [
    {
     "name": "stdout",
     "output_type": "stream",
     "text": [
      "enter no of students = 4\n",
      "enter the student name = ds\n",
      "enter the marks in english86\n",
      "enter the marks in maths5\n",
      "enter the marks in science\n",
      "enter the student name = yh\n",
      "enter the marks in english5\n",
      "enter the marks in maths45\n",
      "enter the marks in science54\n",
      "enter the student name = yu\n",
      "enter the marks in english84\n",
      "enter the marks in maths98\n",
      "enter the marks in science98\n",
      "enter the student name = dff\n",
      "enter the marks in english98\n",
      "enter the marks in maths95\n",
      "enter the marks in science45\n"
     ]
    }
   ],
   "source": [
    "no_of_students = int(input('enter no of students = '))\n",
    "\n",
    "for i in range(no_of_students):\n",
    "    \n",
    "    names.append(input('enter the student name = '))\n",
    "    eng.append(input('enter the marks in english'))\n",
    "    mat.append(input('enter the marks in maths'))\n",
    "    sci.append(input('enter the marks in science'))"
   ]
  },
  {
   "cell_type": "code",
   "execution_count": 7,
   "id": "19937772",
   "metadata": {},
   "outputs": [
    {
     "data": {
      "text/plain": [
       "['ds', 'yh', 'yu', 'dff']"
      ]
     },
     "execution_count": 7,
     "metadata": {},
     "output_type": "execute_result"
    }
   ],
   "source": [
    "names"
   ]
  },
  {
   "cell_type": "code",
   "execution_count": 8,
   "id": "d737a872",
   "metadata": {},
   "outputs": [
    {
     "data": {
      "text/plain": [
       "['86', '5', '84', '98']"
      ]
     },
     "execution_count": 8,
     "metadata": {},
     "output_type": "execute_result"
    }
   ],
   "source": [
    "eng"
   ]
  },
  {
   "cell_type": "code",
   "execution_count": 9,
   "id": "70a19cb1",
   "metadata": {},
   "outputs": [
    {
     "data": {
      "text/plain": [
       "['', '54', '98', '45']"
      ]
     },
     "execution_count": 9,
     "metadata": {},
     "output_type": "execute_result"
    }
   ],
   "source": [
    "sci"
   ]
  },
  {
   "cell_type": "code",
   "execution_count": 10,
   "id": "21e9d13b",
   "metadata": {},
   "outputs": [],
   "source": [
    "data = [names,eng,mat,sci]"
   ]
  },
  {
   "cell_type": "code",
   "execution_count": 11,
   "id": "7559a763",
   "metadata": {},
   "outputs": [
    {
     "data": {
      "text/plain": [
       "[['ds', 'yh', 'yu', 'dff'],\n",
       " ['86', '5', '84', '98'],\n",
       " ['5', '45', '98', '95'],\n",
       " ['', '54', '98', '45']]"
      ]
     },
     "execution_count": 11,
     "metadata": {},
     "output_type": "execute_result"
    }
   ],
   "source": [
    "data"
   ]
  },
  {
   "cell_type": "code",
   "execution_count": 12,
   "id": "c5771962",
   "metadata": {},
   "outputs": [
    {
     "data": {
      "text/plain": [
       "[['ds', 'yh', 'yu', 'dff'],\n",
       " ['86', '5', '84', '98'],\n",
       " ['5', '45', '98', '95'],\n",
       " ['', '54', '98', '45']]"
      ]
     },
     "execution_count": 12,
     "metadata": {},
     "output_type": "execute_result"
    }
   ],
   "source": [
    "data"
   ]
  },
  {
   "cell_type": "code",
   "execution_count": 13,
   "id": "3d929b49",
   "metadata": {},
   "outputs": [
    {
     "data": {
      "text/plain": [
       "['ds', 'yh', 'yu', 'dff']"
      ]
     },
     "execution_count": 13,
     "metadata": {},
     "output_type": "execute_result"
    }
   ],
   "source": [
    "data[0]"
   ]
  },
  {
   "cell_type": "code",
   "execution_count": 14,
   "id": "79b3b481",
   "metadata": {},
   "outputs": [
    {
     "data": {
      "text/plain": [
       "'yh'"
      ]
     },
     "execution_count": 14,
     "metadata": {},
     "output_type": "execute_result"
    }
   ],
   "source": [
    "data[0][1]"
   ]
  },
  {
   "cell_type": "code",
   "execution_count": 15,
   "id": "8c505b5e",
   "metadata": {},
   "outputs": [
    {
     "data": {
      "text/plain": [
       "'ds'"
      ]
     },
     "execution_count": 15,
     "metadata": {},
     "output_type": "execute_result"
    }
   ],
   "source": [
    "data[0][0]"
   ]
  },
  {
   "cell_type": "code",
   "execution_count": 16,
   "id": "92e38b19",
   "metadata": {},
   "outputs": [
    {
     "data": {
      "text/plain": [
       "'95'"
      ]
     },
     "execution_count": 16,
     "metadata": {},
     "output_type": "execute_result"
    }
   ],
   "source": [
    "data[2][3]"
   ]
  },
  {
   "cell_type": "code",
   "execution_count": 19,
   "id": "a57554c2",
   "metadata": {},
   "outputs": [
    {
     "data": {
      "text/plain": [
       "4"
      ]
     },
     "execution_count": 19,
     "metadata": {},
     "output_type": "execute_result"
    }
   ],
   "source": [
    "len(data[0])  #on first list no. of elements"
   ]
  },
  {
   "cell_type": "code",
   "execution_count": 20,
   "id": "881718eb",
   "metadata": {},
   "outputs": [
    {
     "data": {
      "text/plain": [
       "4"
      ]
     },
     "execution_count": 20,
     "metadata": {},
     "output_type": "execute_result"
    }
   ],
   "source": [
    "len(data)  #total of 4 lists"
   ]
  },
  {
   "cell_type": "code",
   "execution_count": 21,
   "id": "63304649",
   "metadata": {},
   "outputs": [
    {
     "data": {
      "text/plain": [
       "[['ds', 'yh', 'yu', 'dff'],\n",
       " ['86', '5', '84', '98'],\n",
       " ['5', '45', '98', '95'],\n",
       " ['', '54', '98', '45']]"
      ]
     },
     "execution_count": 21,
     "metadata": {},
     "output_type": "execute_result"
    }
   ],
   "source": [
    "data"
   ]
  },
  {
   "cell_type": "code",
   "execution_count": 22,
   "id": "cf268f82",
   "metadata": {},
   "outputs": [
    {
     "name": "stdout",
     "output_type": "stream",
     "text": [
      "ds\n",
      "yh\n",
      "yu\n",
      "dff\n"
     ]
    }
   ],
   "source": [
    "for i in range(len(data[0])):\n",
    "    print(data[0][i])"
   ]
  },
  {
   "cell_type": "code",
   "execution_count": 23,
   "id": "370de49c",
   "metadata": {},
   "outputs": [
    {
     "name": "stdout",
     "output_type": "stream",
     "text": [
      "5\n",
      "45\n",
      "98\n",
      "95\n"
     ]
    }
   ],
   "source": [
    "for i in range(len(data[0])):\n",
    "    print(data[2][i])"
   ]
  },
  {
   "cell_type": "code",
   "execution_count": null,
   "id": "8ff849eb",
   "metadata": {},
   "outputs": [],
   "source": []
  },
  {
   "cell_type": "code",
   "execution_count": null,
   "id": "3ae76f5a",
   "metadata": {},
   "outputs": [],
   "source": [
    "\n"
   ]
  },
  {
   "cell_type": "markdown",
   "id": "2b4840dd",
   "metadata": {},
   "source": [
    "# NESSTED LOOP IN PYTHON"
   ]
  },
  {
   "cell_type": "code",
   "execution_count": 24,
   "id": "02e4dcaf",
   "metadata": {},
   "outputs": [
    {
     "data": {
      "text/plain": [
       "[['ds', 'yh', 'yu', 'dff'],\n",
       " ['86', '5', '84', '98'],\n",
       " ['5', '45', '98', '95'],\n",
       " ['', '54', '98', '45']]"
      ]
     },
     "execution_count": 24,
     "metadata": {},
     "output_type": "execute_result"
    }
   ],
   "source": [
    "data"
   ]
  },
  {
   "cell_type": "code",
   "execution_count": 26,
   "id": "e3468e6d",
   "metadata": {},
   "outputs": [
    {
     "name": "stdout",
     "output_type": "stream",
     "text": [
      "['ds', 'yh', 'yu', 'dff']\n",
      "['86', '5', '84', '98']\n",
      "['5', '45', '98', '95']\n",
      "['', '54', '98', '45']\n"
     ]
    }
   ],
   "source": [
    "for i in data:   #make whole list into individual list\n",
    "    print(i)"
   ]
  },
  {
   "cell_type": "code",
   "execution_count": 27,
   "id": "f92f776d",
   "metadata": {},
   "outputs": [
    {
     "name": "stdout",
     "output_type": "stream",
     "text": [
      "['ds', 'yh', 'yu', 'dff']\n",
      "ds\n",
      "yh\n",
      "yu\n",
      "dff\n",
      "['86', '5', '84', '98']\n",
      "86\n",
      "5\n",
      "84\n",
      "98\n",
      "['5', '45', '98', '95']\n",
      "5\n",
      "45\n",
      "98\n",
      "95\n",
      "['', '54', '98', '45']\n",
      "\n",
      "54\n",
      "98\n",
      "45\n"
     ]
    }
   ],
   "source": [
    "for i in data:\n",
    "    print(i)\n",
    "    for j in i:\n",
    "        print(j)"
   ]
  },
  {
   "cell_type": "code",
   "execution_count": 28,
   "id": "912bdd79",
   "metadata": {},
   "outputs": [
    {
     "name": "stdout",
     "output_type": "stream",
     "text": [
      "ds\n",
      "yh\n",
      "yu\n",
      "dff\n",
      "86\n",
      "5\n",
      "84\n",
      "98\n",
      "5\n",
      "45\n",
      "98\n",
      "95\n",
      "\n",
      "54\n",
      "98\n",
      "45\n"
     ]
    }
   ],
   "source": [
    "for i in data:\n",
    "    for j in i:\n",
    "        print(j)"
   ]
  },
  {
   "cell_type": "code",
   "execution_count": null,
   "id": "512d1aa0",
   "metadata": {},
   "outputs": [],
   "source": []
  },
  {
   "cell_type": "code",
   "execution_count": null,
   "id": "7a4c0af4",
   "metadata": {},
   "outputs": [],
   "source": []
  },
  {
   "cell_type": "markdown",
   "id": "0e197156",
   "metadata": {},
   "source": [
    "# TOUPLE IN PYTHON"
   ]
  },
  {
   "cell_type": "code",
   "execution_count": null,
   "id": "764dce5f",
   "metadata": {},
   "outputs": [],
   "source": []
  },
  {
   "cell_type": "code",
   "execution_count": 29,
   "id": "f863d43b",
   "metadata": {},
   "outputs": [],
   "source": [
    "lst = [12,24,36]"
   ]
  },
  {
   "cell_type": "code",
   "execution_count": 30,
   "id": "b6323889",
   "metadata": {},
   "outputs": [
    {
     "data": {
      "text/plain": [
       "12"
      ]
     },
     "execution_count": 30,
     "metadata": {},
     "output_type": "execute_result"
    }
   ],
   "source": [
    "lst[0]"
   ]
  },
  {
   "cell_type": "code",
   "execution_count": 31,
   "id": "994b08e7",
   "metadata": {},
   "outputs": [],
   "source": [
    "lst[0] = 48"
   ]
  },
  {
   "cell_type": "code",
   "execution_count": 32,
   "id": "63100b7f",
   "metadata": {},
   "outputs": [
    {
     "data": {
      "text/plain": [
       "[48, 24, 36]"
      ]
     },
     "execution_count": 32,
     "metadata": {},
     "output_type": "execute_result"
    }
   ],
   "source": [
    "lst"
   ]
  },
  {
   "cell_type": "code",
   "execution_count": null,
   "id": "56a3aa9e",
   "metadata": {},
   "outputs": [],
   "source": []
  },
  {
   "cell_type": "code",
   "execution_count": null,
   "id": "51556193",
   "metadata": {},
   "outputs": [],
   "source": [
    "\n"
   ]
  },
  {
   "cell_type": "code",
   "execution_count": 33,
   "id": "d6112fe1",
   "metadata": {},
   "outputs": [],
   "source": [
    "tpl = (123,24,35,45,98)"
   ]
  },
  {
   "cell_type": "code",
   "execution_count": 34,
   "id": "d0c583e7",
   "metadata": {},
   "outputs": [
    {
     "data": {
      "text/plain": [
       "(123, 24, 35, 45, 98)"
      ]
     },
     "execution_count": 34,
     "metadata": {},
     "output_type": "execute_result"
    }
   ],
   "source": [
    "tpl"
   ]
  },
  {
   "cell_type": "code",
   "execution_count": 35,
   "id": "dc655b61",
   "metadata": {},
   "outputs": [
    {
     "data": {
      "text/plain": [
       "123"
      ]
     },
     "execution_count": 35,
     "metadata": {},
     "output_type": "execute_result"
    }
   ],
   "source": [
    "tpl[0]"
   ]
  },
  {
   "cell_type": "code",
   "execution_count": 37,
   "id": "c2540ad2",
   "metadata": {},
   "outputs": [
    {
     "ename": "TypeError",
     "evalue": "'tuple' object does not support item assignment",
     "output_type": "error",
     "traceback": [
      "\u001b[1;31m---------------------------------------------------------------------------\u001b[0m",
      "\u001b[1;31mTypeError\u001b[0m                                 Traceback (most recent call last)",
      "\u001b[1;32m<ipython-input-37-1c2a0a5f7d95>\u001b[0m in \u001b[0;36m<module>\u001b[1;34m\u001b[0m\n\u001b[1;32m----> 1\u001b[1;33m \u001b[0mtpl\u001b[0m\u001b[1;33m[\u001b[0m\u001b[1;36m0\u001b[0m\u001b[1;33m]\u001b[0m \u001b[1;33m=\u001b[0m \u001b[1;36m34\u001b[0m   \u001b[1;31m#this is in touple we cannot change value after assigned\u001b[0m\u001b[1;33m\u001b[0m\u001b[1;33m\u001b[0m\u001b[0m\n\u001b[0m",
      "\u001b[1;31mTypeError\u001b[0m: 'tuple' object does not support item assignment"
     ]
    }
   ],
   "source": [
    "tpl[0] = 34   #this is in touple we cannot change value after assigned"
   ]
  },
  {
   "cell_type": "code",
   "execution_count": 38,
   "id": "8144b1b4",
   "metadata": {},
   "outputs": [
    {
     "data": {
      "text/plain": [
       "(123, 24, 35, 45, 98)"
      ]
     },
     "execution_count": 38,
     "metadata": {},
     "output_type": "execute_result"
    }
   ],
   "source": [
    "tpl"
   ]
  },
  {
   "cell_type": "code",
   "execution_count": null,
   "id": "a1121b05",
   "metadata": {},
   "outputs": [],
   "source": []
  },
  {
   "cell_type": "code",
   "execution_count": null,
   "id": "ac0d9b4d",
   "metadata": {},
   "outputs": [],
   "source": []
  },
  {
   "cell_type": "code",
   "execution_count": 42,
   "id": "759043ff",
   "metadata": {},
   "outputs": [],
   "source": [
    "lst = [1,2,4,3,6,5,2,3,8,5,8]"
   ]
  },
  {
   "cell_type": "code",
   "execution_count": 44,
   "id": "ccffbb10",
   "metadata": {},
   "outputs": [
    {
     "data": {
      "text/plain": [
       "{1, 2, 3, 4, 5, 6, 8}"
      ]
     },
     "execution_count": 44,
     "metadata": {},
     "output_type": "execute_result"
    }
   ],
   "source": [
    "set(lst)   #set is used to del duplicate items in list"
   ]
  },
  {
   "cell_type": "code",
   "execution_count": 45,
   "id": "3f824612",
   "metadata": {},
   "outputs": [],
   "source": [
    "st = set(lst) "
   ]
  },
  {
   "cell_type": "code",
   "execution_count": 46,
   "id": "4906e5a1",
   "metadata": {},
   "outputs": [
    {
     "data": {
      "text/plain": [
       "{1, 2, 3, 4, 5, 6, 8}"
      ]
     },
     "execution_count": 46,
     "metadata": {},
     "output_type": "execute_result"
    }
   ],
   "source": [
    "st"
   ]
  },
  {
   "cell_type": "code",
   "execution_count": 47,
   "id": "736c7d40",
   "metadata": {},
   "outputs": [
    {
     "ename": "TypeError",
     "evalue": "'set' object is not subscriptable",
     "output_type": "error",
     "traceback": [
      "\u001b[1;31m---------------------------------------------------------------------------\u001b[0m",
      "\u001b[1;31mTypeError\u001b[0m                                 Traceback (most recent call last)",
      "\u001b[1;32m<ipython-input-47-028cc1d9138b>\u001b[0m in \u001b[0;36m<module>\u001b[1;34m\u001b[0m\n\u001b[1;32m----> 1\u001b[1;33m \u001b[0mst\u001b[0m\u001b[1;33m[\u001b[0m\u001b[1;36m0\u001b[0m\u001b[1;33m]\u001b[0m\u001b[1;33m\u001b[0m\u001b[1;33m\u001b[0m\u001b[0m\n\u001b[0m",
      "\u001b[1;31mTypeError\u001b[0m: 'set' object is not subscriptable"
     ]
    }
   ],
   "source": [
    "st[0]"
   ]
  },
  {
   "cell_type": "code",
   "execution_count": 50,
   "id": "fb7ac745",
   "metadata": {},
   "outputs": [],
   "source": [
    "lst = list(st)    #list is used to convert into list"
   ]
  },
  {
   "cell_type": "code",
   "execution_count": 51,
   "id": "c53c310c",
   "metadata": {},
   "outputs": [
    {
     "data": {
      "text/plain": [
       "[1, 2, 3, 4, 5, 6, 8]"
      ]
     },
     "execution_count": 51,
     "metadata": {},
     "output_type": "execute_result"
    }
   ],
   "source": [
    "lst"
   ]
  },
  {
   "cell_type": "code",
   "execution_count": null,
   "id": "ddb76756",
   "metadata": {},
   "outputs": [],
   "source": []
  },
  {
   "cell_type": "code",
   "execution_count": null,
   "id": "dea2da6f",
   "metadata": {},
   "outputs": [],
   "source": []
  },
  {
   "cell_type": "code",
   "execution_count": null,
   "id": "34c7e5a8",
   "metadata": {},
   "outputs": [],
   "source": []
  },
  {
   "cell_type": "code",
   "execution_count": 52,
   "id": "e710e8e3",
   "metadata": {},
   "outputs": [],
   "source": [
    "tpl = (2,4,6,5,3)"
   ]
  },
  {
   "cell_type": "code",
   "execution_count": 53,
   "id": "9451e667",
   "metadata": {},
   "outputs": [
    {
     "data": {
      "text/plain": [
       "(2, 4, 6, 5, 3)"
      ]
     },
     "execution_count": 53,
     "metadata": {},
     "output_type": "execute_result"
    }
   ],
   "source": [
    "tpl"
   ]
  },
  {
   "cell_type": "code",
   "execution_count": 54,
   "id": "4c4de45c",
   "metadata": {},
   "outputs": [],
   "source": [
    "lst = list(tpl)"
   ]
  },
  {
   "cell_type": "code",
   "execution_count": 55,
   "id": "279a25b9",
   "metadata": {},
   "outputs": [
    {
     "data": {
      "text/plain": [
       "[2, 4, 6, 5, 3]"
      ]
     },
     "execution_count": 55,
     "metadata": {},
     "output_type": "execute_result"
    }
   ],
   "source": [
    "lst"
   ]
  },
  {
   "cell_type": "code",
   "execution_count": null,
   "id": "c9ec0420",
   "metadata": {},
   "outputs": [],
   "source": []
  },
  {
   "cell_type": "code",
   "execution_count": null,
   "id": "ef115c45",
   "metadata": {},
   "outputs": [],
   "source": []
  },
  {
   "cell_type": "code",
   "execution_count": null,
   "id": "30be8322",
   "metadata": {},
   "outputs": [],
   "source": []
  },
  {
   "cell_type": "code",
   "execution_count": null,
   "id": "c036a180",
   "metadata": {},
   "outputs": [],
   "source": []
  },
  {
   "cell_type": "markdown",
   "id": "203f3cbe",
   "metadata": {},
   "source": [
    "# DICTIONARIES"
   ]
  },
  {
   "cell_type": "code",
   "execution_count": null,
   "id": "bd5036f6",
   "metadata": {},
   "outputs": [],
   "source": []
  },
  {
   "cell_type": "code",
   "execution_count": 56,
   "id": "84c8ae36",
   "metadata": {},
   "outputs": [],
   "source": [
    "dct = {'name':'kavin','english':89,'maths':98}"
   ]
  },
  {
   "cell_type": "code",
   "execution_count": 57,
   "id": "ce3e54d7",
   "metadata": {},
   "outputs": [
    {
     "data": {
      "text/plain": [
       "{'name': 'kavin', 'english': 89, 'maths': 98}"
      ]
     },
     "execution_count": 57,
     "metadata": {},
     "output_type": "execute_result"
    }
   ],
   "source": [
    "dct"
   ]
  },
  {
   "cell_type": "code",
   "execution_count": 58,
   "id": "74126579",
   "metadata": {},
   "outputs": [
    {
     "ename": "KeyError",
     "evalue": "0",
     "output_type": "error",
     "traceback": [
      "\u001b[1;31m---------------------------------------------------------------------------\u001b[0m",
      "\u001b[1;31mKeyError\u001b[0m                                  Traceback (most recent call last)",
      "\u001b[1;32m<ipython-input-58-bddb1a64b6de>\u001b[0m in \u001b[0;36m<module>\u001b[1;34m\u001b[0m\n\u001b[1;32m----> 1\u001b[1;33m \u001b[0mdct\u001b[0m\u001b[1;33m[\u001b[0m\u001b[1;36m0\u001b[0m\u001b[1;33m]\u001b[0m\u001b[1;33m\u001b[0m\u001b[1;33m\u001b[0m\u001b[0m\n\u001b[0m",
      "\u001b[1;31mKeyError\u001b[0m: 0"
     ]
    }
   ],
   "source": [
    "dct[0]"
   ]
  },
  {
   "cell_type": "code",
   "execution_count": 59,
   "id": "02cdb966",
   "metadata": {},
   "outputs": [
    {
     "data": {
      "text/plain": [
       "'kavin'"
      ]
     },
     "execution_count": 59,
     "metadata": {},
     "output_type": "execute_result"
    }
   ],
   "source": [
    "dct['name']"
   ]
  },
  {
   "cell_type": "code",
   "execution_count": 60,
   "id": "87ac63f8",
   "metadata": {},
   "outputs": [
    {
     "data": {
      "text/plain": [
       "89"
      ]
     },
     "execution_count": 60,
     "metadata": {},
     "output_type": "execute_result"
    }
   ],
   "source": [
    "dct['english']"
   ]
  },
  {
   "cell_type": "code",
   "execution_count": 61,
   "id": "fa46d470",
   "metadata": {},
   "outputs": [
    {
     "ename": "KeyError",
     "evalue": "89",
     "output_type": "error",
     "traceback": [
      "\u001b[1;31m---------------------------------------------------------------------------\u001b[0m",
      "\u001b[1;31mKeyError\u001b[0m                                  Traceback (most recent call last)",
      "\u001b[1;32m<ipython-input-61-96d9ef8947d3>\u001b[0m in \u001b[0;36m<module>\u001b[1;34m\u001b[0m\n\u001b[1;32m----> 1\u001b[1;33m \u001b[0mdct\u001b[0m\u001b[1;33m[\u001b[0m\u001b[1;36m89\u001b[0m\u001b[1;33m]\u001b[0m\u001b[1;33m\u001b[0m\u001b[1;33m\u001b[0m\u001b[0m\n\u001b[0m",
      "\u001b[1;31mKeyError\u001b[0m: 89"
     ]
    }
   ],
   "source": [
    "dct[89]"
   ]
  },
  {
   "cell_type": "code",
   "execution_count": 62,
   "id": "a85ed161",
   "metadata": {},
   "outputs": [
    {
     "data": {
      "text/plain": [
       "{'name': 'kavin', 'english': 89, 'maths': 98}"
      ]
     },
     "execution_count": 62,
     "metadata": {},
     "output_type": "execute_result"
    }
   ],
   "source": [
    "dct"
   ]
  },
  {
   "cell_type": "code",
   "execution_count": 63,
   "id": "4ae16b36",
   "metadata": {},
   "outputs": [
    {
     "data": {
      "text/plain": [
       "dict_keys(['name', 'english', 'maths'])"
      ]
     },
     "execution_count": 63,
     "metadata": {},
     "output_type": "execute_result"
    }
   ],
   "source": [
    "dct.keys()"
   ]
  },
  {
   "cell_type": "code",
   "execution_count": 64,
   "id": "8bce6e73",
   "metadata": {},
   "outputs": [
    {
     "data": {
      "text/plain": [
       "dict_values(['kavin', 89, 98])"
      ]
     },
     "execution_count": 64,
     "metadata": {},
     "output_type": "execute_result"
    }
   ],
   "source": [
    "dct.values()"
   ]
  },
  {
   "cell_type": "code",
   "execution_count": null,
   "id": "50a8308a",
   "metadata": {},
   "outputs": [],
   "source": []
  },
  {
   "cell_type": "code",
   "execution_count": 70,
   "id": "b9d77e68",
   "metadata": {},
   "outputs": [],
   "source": [
    "data = {'19bec040': {'name':'kavin','english':89,'maths':98}}    #multiple dictionaries"
   ]
  },
  {
   "cell_type": "code",
   "execution_count": 71,
   "id": "94aa0130",
   "metadata": {},
   "outputs": [
    {
     "data": {
      "text/plain": [
       "{'19bec040': {'name': 'kavin', 'english': 89, 'maths': 98}}"
      ]
     },
     "execution_count": 71,
     "metadata": {},
     "output_type": "execute_result"
    }
   ],
   "source": [
    "data"
   ]
  },
  {
   "cell_type": "code",
   "execution_count": 72,
   "id": "f6557556",
   "metadata": {},
   "outputs": [
    {
     "data": {
      "text/plain": [
       "dict_keys(['19bec040'])"
      ]
     },
     "execution_count": 72,
     "metadata": {},
     "output_type": "execute_result"
    }
   ],
   "source": [
    "data.keys()"
   ]
  },
  {
   "cell_type": "code",
   "execution_count": 73,
   "id": "691ff482",
   "metadata": {},
   "outputs": [
    {
     "data": {
      "text/plain": [
       "dict_values([{'name': 'kavin', 'english': 89, 'maths': 98}])"
      ]
     },
     "execution_count": 73,
     "metadata": {},
     "output_type": "execute_result"
    }
   ],
   "source": [
    "data.values()"
   ]
  },
  {
   "cell_type": "code",
   "execution_count": null,
   "id": "6c5504ce",
   "metadata": {},
   "outputs": [],
   "source": []
  },
  {
   "cell_type": "code",
   "execution_count": 92,
   "id": "5b051e96",
   "metadata": {},
   "outputs": [],
   "source": [
    "data = {'19bec040': \n",
    "         {'name':'kavin','english':89,'maths':98},\n",
    "        '19bec046':\n",
    "         {'name':'geffrey','english':90,'maths':96}\n",
    "       } "
   ]
  },
  {
   "cell_type": "code",
   "execution_count": 93,
   "id": "48757c7a",
   "metadata": {},
   "outputs": [
    {
     "data": {
      "text/plain": [
       "{'19bec040': {'name': 'kavin', 'english': 89, 'maths': 98},\n",
       " '19bec046': {'name': 'geffrey', 'english': 90, 'maths': 96}}"
      ]
     },
     "execution_count": 93,
     "metadata": {},
     "output_type": "execute_result"
    }
   ],
   "source": [
    "data"
   ]
  },
  {
   "cell_type": "code",
   "execution_count": 94,
   "id": "c68235ab",
   "metadata": {},
   "outputs": [
    {
     "data": {
      "text/plain": [
       "dict_keys(['19bec040', '19bec046'])"
      ]
     },
     "execution_count": 94,
     "metadata": {},
     "output_type": "execute_result"
    }
   ],
   "source": [
    "data.keys()"
   ]
  },
  {
   "cell_type": "code",
   "execution_count": 95,
   "id": "b8223617",
   "metadata": {},
   "outputs": [
    {
     "ename": "TypeError",
     "evalue": "'dict' object is not callable",
     "output_type": "error",
     "traceback": [
      "\u001b[1;31m---------------------------------------------------------------------------\u001b[0m",
      "\u001b[1;31mTypeError\u001b[0m                                 Traceback (most recent call last)",
      "\u001b[1;32m<ipython-input-95-f76a0c58f6d9>\u001b[0m in \u001b[0;36m<module>\u001b[1;34m\u001b[0m\n\u001b[1;32m----> 1\u001b[1;33m \u001b[0mdata\u001b[0m\u001b[1;33m(\u001b[0m\u001b[1;34m'19bec046'\u001b[0m\u001b[1;33m)\u001b[0m\u001b[1;33m\u001b[0m\u001b[1;33m\u001b[0m\u001b[0m\n\u001b[0m",
      "\u001b[1;31mTypeError\u001b[0m: 'dict' object is not callable"
     ]
    }
   ],
   "source": [
    "data('19bec046')"
   ]
  },
  {
   "cell_type": "code",
   "execution_count": 96,
   "id": "81d41a46",
   "metadata": {},
   "outputs": [
    {
     "data": {
      "text/plain": [
       "{'name': 'geffrey', 'english': 90, 'maths': 96}"
      ]
     },
     "execution_count": 96,
     "metadata": {},
     "output_type": "execute_result"
    }
   ],
   "source": [
    "data['19bec046']"
   ]
  },
  {
   "cell_type": "code",
   "execution_count": 97,
   "id": "370f67b3",
   "metadata": {},
   "outputs": [
    {
     "data": {
      "text/plain": [
       "90"
      ]
     },
     "execution_count": 97,
     "metadata": {},
     "output_type": "execute_result"
    }
   ],
   "source": [
    "data['19bec046']['english']"
   ]
  },
  {
   "cell_type": "code",
   "execution_count": 98,
   "id": "628ab1a3",
   "metadata": {},
   "outputs": [
    {
     "data": {
      "text/plain": [
       "{'19bec040': {'name': 'kavin', 'english': 89, 'maths': 98},\n",
       " '19bec046': {'name': 'geffrey', 'english': 90, 'maths': 96}}"
      ]
     },
     "execution_count": 98,
     "metadata": {},
     "output_type": "execute_result"
    }
   ],
   "source": [
    "data"
   ]
  },
  {
   "cell_type": "code",
   "execution_count": 99,
   "id": "f2b05b47",
   "metadata": {},
   "outputs": [],
   "source": [
    "data['19bec046']['english'] = 94"
   ]
  },
  {
   "cell_type": "code",
   "execution_count": 100,
   "id": "35daa139",
   "metadata": {},
   "outputs": [
    {
     "data": {
      "text/plain": [
       "{'19bec040': {'name': 'kavin', 'english': 89, 'maths': 98},\n",
       " '19bec046': {'name': 'geffrey', 'english': 94, 'maths': 96}}"
      ]
     },
     "execution_count": 100,
     "metadata": {},
     "output_type": "execute_result"
    }
   ],
   "source": [
    "data"
   ]
  },
  {
   "cell_type": "code",
   "execution_count": 101,
   "id": "dcf1c60d",
   "metadata": {},
   "outputs": [],
   "source": [
    "del data['19bec046']"
   ]
  },
  {
   "cell_type": "code",
   "execution_count": 102,
   "id": "c60a8f50",
   "metadata": {},
   "outputs": [
    {
     "data": {
      "text/plain": [
       "{'19bec040': {'name': 'kavin', 'english': 89, 'maths': 98}}"
      ]
     },
     "execution_count": 102,
     "metadata": {},
     "output_type": "execute_result"
    }
   ],
   "source": [
    "data"
   ]
  },
  {
   "cell_type": "code",
   "execution_count": null,
   "id": "f4de9639",
   "metadata": {},
   "outputs": [],
   "source": []
  }
 ],
 "metadata": {
  "kernelspec": {
   "display_name": "Python 3",
   "language": "python",
   "name": "python3"
  },
  "language_info": {
   "codemirror_mode": {
    "name": "ipython",
    "version": 3
   },
   "file_extension": ".py",
   "mimetype": "text/x-python",
   "name": "python",
   "nbconvert_exporter": "python",
   "pygments_lexer": "ipython3",
   "version": "3.8.8"
  }
 },
 "nbformat": 4,
 "nbformat_minor": 5
}
