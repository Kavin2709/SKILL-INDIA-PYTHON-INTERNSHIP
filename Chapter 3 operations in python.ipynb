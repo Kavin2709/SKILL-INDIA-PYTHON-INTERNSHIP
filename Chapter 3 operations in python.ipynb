{
 "cells": [
  {
   "cell_type": "markdown",
   "id": "f597fe27",
   "metadata": {},
   "source": [
    "# OPERATIONS "
   ]
  },
  {
   "cell_type": "code",
   "execution_count": null,
   "id": "e869ea9b",
   "metadata": {},
   "outputs": [],
   "source": []
  },
  {
   "cell_type": "markdown",
   "id": "8eadc45a",
   "metadata": {},
   "source": [
    "## STRING -> INT\n",
    "## STRING -> FLOAT\n",
    "## STRING ->BOOLEAN"
   ]
  },
  {
   "cell_type": "code",
   "execution_count": null,
   "id": "f4b0b79a",
   "metadata": {},
   "outputs": [],
   "source": []
  },
  {
   "cell_type": "code",
   "execution_count": null,
   "id": "65960a52",
   "metadata": {},
   "outputs": [],
   "source": []
  },
  {
   "cell_type": "code",
   "execution_count": 1,
   "id": "9c559469",
   "metadata": {},
   "outputs": [],
   "source": [
    "var1='123'"
   ]
  },
  {
   "cell_type": "code",
   "execution_count": 2,
   "id": "98a50711",
   "metadata": {},
   "outputs": [
    {
     "data": {
      "text/plain": [
       "'123'"
      ]
     },
     "execution_count": 2,
     "metadata": {},
     "output_type": "execute_result"
    }
   ],
   "source": [
    "var1"
   ]
  },
  {
   "cell_type": "code",
   "execution_count": 3,
   "id": "b0cb8450",
   "metadata": {},
   "outputs": [
    {
     "data": {
      "text/plain": [
       "str"
      ]
     },
     "execution_count": 3,
     "metadata": {},
     "output_type": "execute_result"
    }
   ],
   "source": [
    "type(var1)"
   ]
  },
  {
   "cell_type": "code",
   "execution_count": 4,
   "id": "b669df14",
   "metadata": {},
   "outputs": [],
   "source": [
    "var2=int(var1)"
   ]
  },
  {
   "cell_type": "code",
   "execution_count": 5,
   "id": "9a2e2652",
   "metadata": {},
   "outputs": [
    {
     "data": {
      "text/plain": [
       "123"
      ]
     },
     "execution_count": 5,
     "metadata": {},
     "output_type": "execute_result"
    }
   ],
   "source": [
    "var2"
   ]
  },
  {
   "cell_type": "code",
   "execution_count": 6,
   "id": "a5629a6d",
   "metadata": {},
   "outputs": [
    {
     "data": {
      "text/plain": [
       "int"
      ]
     },
     "execution_count": 6,
     "metadata": {},
     "output_type": "execute_result"
    }
   ],
   "source": [
    "type(var2)"
   ]
  },
  {
   "cell_type": "code",
   "execution_count": null,
   "id": "e22f81f8",
   "metadata": {},
   "outputs": [],
   "source": []
  },
  {
   "cell_type": "code",
   "execution_count": 7,
   "id": "5bfc574d",
   "metadata": {},
   "outputs": [],
   "source": [
    "ka1='hello'"
   ]
  },
  {
   "cell_type": "code",
   "execution_count": 8,
   "id": "aea47de6",
   "metadata": {},
   "outputs": [
    {
     "data": {
      "text/plain": [
       "str"
      ]
     },
     "execution_count": 8,
     "metadata": {},
     "output_type": "execute_result"
    }
   ],
   "source": [
    "type(ka1)"
   ]
  },
  {
   "cell_type": "code",
   "execution_count": 9,
   "id": "6f0993bc",
   "metadata": {},
   "outputs": [
    {
     "ename": "ValueError",
     "evalue": "invalid literal for int() with base 10: 'hello'",
     "output_type": "error",
     "traceback": [
      "\u001b[1;31m---------------------------------------------------------------------------\u001b[0m",
      "\u001b[1;31mValueError\u001b[0m                                Traceback (most recent call last)",
      "\u001b[1;32m<ipython-input-9-fe9d336f9b2d>\u001b[0m in \u001b[0;36m<module>\u001b[1;34m\u001b[0m\n\u001b[1;32m----> 1\u001b[1;33m \u001b[0mka2\u001b[0m\u001b[1;33m=\u001b[0m\u001b[0mint\u001b[0m\u001b[1;33m(\u001b[0m\u001b[0mka1\u001b[0m\u001b[1;33m)\u001b[0m\u001b[1;33m\u001b[0m\u001b[1;33m\u001b[0m\u001b[0m\n\u001b[0m",
      "\u001b[1;31mValueError\u001b[0m: invalid literal for int() with base 10: 'hello'"
     ]
    }
   ],
   "source": [
    "ka2=int(ka1)"
   ]
  },
  {
   "cell_type": "code",
   "execution_count": null,
   "id": "a28f5dff",
   "metadata": {},
   "outputs": [],
   "source": []
  },
  {
   "cell_type": "code",
   "execution_count": null,
   "id": "f307338d",
   "metadata": {},
   "outputs": [],
   "source": []
  },
  {
   "cell_type": "code",
   "execution_count": 10,
   "id": "f59f7cd1",
   "metadata": {},
   "outputs": [],
   "source": [
    "va1='123.23'"
   ]
  },
  {
   "cell_type": "code",
   "execution_count": 11,
   "id": "3dbfc06c",
   "metadata": {},
   "outputs": [
    {
     "data": {
      "text/plain": [
       "str"
      ]
     },
     "execution_count": 11,
     "metadata": {},
     "output_type": "execute_result"
    }
   ],
   "source": [
    "type(va1)"
   ]
  },
  {
   "cell_type": "code",
   "execution_count": 12,
   "id": "4e4657e7",
   "metadata": {},
   "outputs": [
    {
     "ename": "ValueError",
     "evalue": "invalid literal for int() with base 10: '123.23'",
     "output_type": "error",
     "traceback": [
      "\u001b[1;31m---------------------------------------------------------------------------\u001b[0m",
      "\u001b[1;31mValueError\u001b[0m                                Traceback (most recent call last)",
      "\u001b[1;32m<ipython-input-12-35059bdca76b>\u001b[0m in \u001b[0;36m<module>\u001b[1;34m\u001b[0m\n\u001b[1;32m----> 1\u001b[1;33m \u001b[0mva2\u001b[0m\u001b[1;33m=\u001b[0m\u001b[0mint\u001b[0m\u001b[1;33m(\u001b[0m\u001b[0mva1\u001b[0m\u001b[1;33m)\u001b[0m\u001b[1;33m\u001b[0m\u001b[1;33m\u001b[0m\u001b[0m\n\u001b[0m",
      "\u001b[1;31mValueError\u001b[0m: invalid literal for int() with base 10: '123.23'"
     ]
    }
   ],
   "source": [
    "va2=int(va1)"
   ]
  },
  {
   "cell_type": "code",
   "execution_count": 13,
   "id": "3f18346e",
   "metadata": {},
   "outputs": [],
   "source": [
    "va2=float(va1)"
   ]
  },
  {
   "cell_type": "code",
   "execution_count": 14,
   "id": "bbe0d4d8",
   "metadata": {},
   "outputs": [
    {
     "data": {
      "text/plain": [
       "123.23"
      ]
     },
     "execution_count": 14,
     "metadata": {},
     "output_type": "execute_result"
    }
   ],
   "source": [
    "va2"
   ]
  },
  {
   "cell_type": "code",
   "execution_count": null,
   "id": "c789c090",
   "metadata": {},
   "outputs": [],
   "source": []
  },
  {
   "cell_type": "code",
   "execution_count": 15,
   "id": "2e2ffabf",
   "metadata": {},
   "outputs": [],
   "source": [
    "v1='True'"
   ]
  },
  {
   "cell_type": "code",
   "execution_count": 16,
   "id": "4f556418",
   "metadata": {},
   "outputs": [
    {
     "data": {
      "text/plain": [
       "str"
      ]
     },
     "execution_count": 16,
     "metadata": {},
     "output_type": "execute_result"
    }
   ],
   "source": [
    "type(v1)"
   ]
  },
  {
   "cell_type": "code",
   "execution_count": 17,
   "id": "b207de45",
   "metadata": {},
   "outputs": [],
   "source": [
    "v2=bool(v1)"
   ]
  },
  {
   "cell_type": "code",
   "execution_count": 18,
   "id": "c3d6cafc",
   "metadata": {},
   "outputs": [
    {
     "data": {
      "text/plain": [
       "True"
      ]
     },
     "execution_count": 18,
     "metadata": {},
     "output_type": "execute_result"
    }
   ],
   "source": [
    "v2"
   ]
  },
  {
   "cell_type": "code",
   "execution_count": null,
   "id": "44b5f679",
   "metadata": {},
   "outputs": [],
   "source": []
  },
  {
   "cell_type": "markdown",
   "id": "1190fdb8",
   "metadata": {},
   "source": [
    "## INT - STRING\n",
    "## INT - FLOAT\n",
    "## INT - BOOL"
   ]
  },
  {
   "cell_type": "code",
   "execution_count": null,
   "id": "e6391a90",
   "metadata": {},
   "outputs": [],
   "source": []
  },
  {
   "cell_type": "code",
   "execution_count": 19,
   "id": "5e3e63ca",
   "metadata": {},
   "outputs": [],
   "source": [
    "var1=123"
   ]
  },
  {
   "cell_type": "code",
   "execution_count": 20,
   "id": "82426f1c",
   "metadata": {},
   "outputs": [
    {
     "data": {
      "text/plain": [
       "'123'"
      ]
     },
     "execution_count": 20,
     "metadata": {},
     "output_type": "execute_result"
    }
   ],
   "source": [
    "str(var1)"
   ]
  },
  {
   "cell_type": "code",
   "execution_count": 21,
   "id": "99855209",
   "metadata": {},
   "outputs": [
    {
     "data": {
      "text/plain": [
       "123.0"
      ]
     },
     "execution_count": 21,
     "metadata": {},
     "output_type": "execute_result"
    }
   ],
   "source": [
    "float(var1)"
   ]
  },
  {
   "cell_type": "code",
   "execution_count": 22,
   "id": "c7c829a3",
   "metadata": {},
   "outputs": [
    {
     "data": {
      "text/plain": [
       "True"
      ]
     },
     "execution_count": 22,
     "metadata": {},
     "output_type": "execute_result"
    }
   ],
   "source": [
    "bool(var1)"
   ]
  },
  {
   "cell_type": "code",
   "execution_count": 23,
   "id": "32c9fc2f",
   "metadata": {},
   "outputs": [],
   "source": [
    "var2=0"
   ]
  },
  {
   "cell_type": "code",
   "execution_count": 24,
   "id": "de5964f6",
   "metadata": {},
   "outputs": [
    {
     "data": {
      "text/plain": [
       "False"
      ]
     },
     "execution_count": 24,
     "metadata": {},
     "output_type": "execute_result"
    }
   ],
   "source": [
    "bool(var2)"
   ]
  },
  {
   "cell_type": "code",
   "execution_count": 25,
   "id": "cc57da5b",
   "metadata": {},
   "outputs": [],
   "source": [
    "var3=-123"
   ]
  },
  {
   "cell_type": "code",
   "execution_count": 26,
   "id": "906edcea",
   "metadata": {},
   "outputs": [
    {
     "data": {
      "text/plain": [
       "True"
      ]
     },
     "execution_count": 26,
     "metadata": {},
     "output_type": "execute_result"
    }
   ],
   "source": [
    "bool(var3)"
   ]
  },
  {
   "cell_type": "code",
   "execution_count": null,
   "id": "ae81d472",
   "metadata": {},
   "outputs": [],
   "source": []
  },
  {
   "cell_type": "code",
   "execution_count": null,
   "id": "1112b2f8",
   "metadata": {},
   "outputs": [],
   "source": []
  },
  {
   "cell_type": "code",
   "execution_count": null,
   "id": "98fe3584",
   "metadata": {},
   "outputs": [],
   "source": []
  },
  {
   "cell_type": "markdown",
   "id": "3c666bbc",
   "metadata": {},
   "source": [
    "## FLOAT - INTEGER"
   ]
  },
  {
   "cell_type": "code",
   "execution_count": null,
   "id": "555d9531",
   "metadata": {},
   "outputs": [],
   "source": []
  },
  {
   "cell_type": "code",
   "execution_count": 27,
   "id": "34604135",
   "metadata": {},
   "outputs": [],
   "source": [
    "var=22.0/7"
   ]
  },
  {
   "cell_type": "code",
   "execution_count": 28,
   "id": "30561612",
   "metadata": {},
   "outputs": [
    {
     "data": {
      "text/plain": [
       "3.142857142857143"
      ]
     },
     "execution_count": 28,
     "metadata": {},
     "output_type": "execute_result"
    }
   ],
   "source": [
    "var"
   ]
  },
  {
   "cell_type": "code",
   "execution_count": 29,
   "id": "eacc9f5e",
   "metadata": {},
   "outputs": [],
   "source": [
    "var1=int(var)"
   ]
  },
  {
   "cell_type": "code",
   "execution_count": 30,
   "id": "f7cad3ac",
   "metadata": {},
   "outputs": [
    {
     "data": {
      "text/plain": [
       "3"
      ]
     },
     "execution_count": 30,
     "metadata": {},
     "output_type": "execute_result"
    }
   ],
   "source": [
    "var1"
   ]
  },
  {
   "cell_type": "code",
   "execution_count": null,
   "id": "6a6f5e88",
   "metadata": {},
   "outputs": [],
   "source": [
    "\n"
   ]
  },
  {
   "cell_type": "code",
   "execution_count": null,
   "id": "9cd96ed2",
   "metadata": {},
   "outputs": [],
   "source": []
  },
  {
   "cell_type": "code",
   "execution_count": null,
   "id": "899690d0",
   "metadata": {},
   "outputs": [],
   "source": []
  },
  {
   "cell_type": "code",
   "execution_count": null,
   "id": "04933543",
   "metadata": {},
   "outputs": [],
   "source": []
  },
  {
   "cell_type": "code",
   "execution_count": null,
   "id": "0fe12c0d",
   "metadata": {},
   "outputs": [],
   "source": []
  },
  {
   "cell_type": "code",
   "execution_count": null,
   "id": "17d1a292",
   "metadata": {},
   "outputs": [],
   "source": []
  },
  {
   "cell_type": "markdown",
   "id": "df35e26d",
   "metadata": {},
   "source": [
    "# TAKING INPUT FROM USER"
   ]
  },
  {
   "cell_type": "code",
   "execution_count": null,
   "id": "3fa4c10b",
   "metadata": {},
   "outputs": [],
   "source": []
  },
  {
   "cell_type": "code",
   "execution_count": 31,
   "id": "1e2b108d",
   "metadata": {},
   "outputs": [
    {
     "name": "stdout",
     "output_type": "stream",
     "text": [
      "Enter the First number: 5\n",
      "Enter the second number: 6\n"
     ]
    }
   ],
   "source": [
    "num1 = input('Enter the First number: ')\n",
    "num2 = input('Enter the second number: ')"
   ]
  },
  {
   "cell_type": "code",
   "execution_count": 32,
   "id": "2bddd2ce",
   "metadata": {},
   "outputs": [
    {
     "data": {
      "text/plain": [
       "'5'"
      ]
     },
     "execution_count": 32,
     "metadata": {},
     "output_type": "execute_result"
    }
   ],
   "source": [
    "num1"
   ]
  },
  {
   "cell_type": "code",
   "execution_count": 4,
   "id": "0fe2568d",
   "metadata": {},
   "outputs": [
    {
     "ename": "NameError",
     "evalue": "name 'num2' is not defined",
     "output_type": "error",
     "traceback": [
      "\u001b[1;31m---------------------------------------------------------------------------\u001b[0m",
      "\u001b[1;31mNameError\u001b[0m                                 Traceback (most recent call last)",
      "\u001b[1;32m<ipython-input-4-8251c97e9ea1>\u001b[0m in \u001b[0;36m<module>\u001b[1;34m\u001b[0m\n\u001b[1;32m----> 1\u001b[1;33m \u001b[0mnum2\u001b[0m\u001b[1;33m\u001b[0m\u001b[1;33m\u001b[0m\u001b[0m\n\u001b[0m",
      "\u001b[1;31mNameError\u001b[0m: name 'num2' is not defined"
     ]
    }
   ],
   "source": [
    "num2"
   ]
  },
  {
   "cell_type": "code",
   "execution_count": 2,
   "id": "750b591b",
   "metadata": {},
   "outputs": [
    {
     "ename": "NameError",
     "evalue": "name 'num2' is not defined",
     "output_type": "error",
     "traceback": [
      "\u001b[1;31m---------------------------------------------------------------------------\u001b[0m",
      "\u001b[1;31mNameError\u001b[0m                                 Traceback (most recent call last)",
      "\u001b[1;32m<ipython-input-2-8251c97e9ea1>\u001b[0m in \u001b[0;36m<module>\u001b[1;34m\u001b[0m\n\u001b[1;32m----> 1\u001b[1;33m \u001b[0mnum2\u001b[0m\u001b[1;33m\u001b[0m\u001b[1;33m\u001b[0m\u001b[0m\n\u001b[0m",
      "\u001b[1;31mNameError\u001b[0m: name 'num2' is not defined"
     ]
    }
   ],
   "source": [
    "num2"
   ]
  },
  {
   "cell_type": "code",
   "execution_count": 1,
   "id": "70288908",
   "metadata": {},
   "outputs": [
    {
     "ename": "NameError",
     "evalue": "name 'num1' is not defined",
     "output_type": "error",
     "traceback": [
      "\u001b[1;31m---------------------------------------------------------------------------\u001b[0m",
      "\u001b[1;31mNameError\u001b[0m                                 Traceback (most recent call last)",
      "\u001b[1;32m<ipython-input-1-2ed83358fb14>\u001b[0m in \u001b[0;36m<module>\u001b[1;34m\u001b[0m\n\u001b[1;32m----> 1\u001b[1;33m \u001b[0mprint\u001b[0m\u001b[1;33m(\u001b[0m\u001b[0mnum1\u001b[0m \u001b[1;33m+\u001b[0m \u001b[0mnum2\u001b[0m\u001b[1;33m)\u001b[0m\u001b[1;33m\u001b[0m\u001b[1;33m\u001b[0m\u001b[0m\n\u001b[0m\u001b[0;32m      2\u001b[0m \u001b[0mprint\u001b[0m\u001b[1;33m(\u001b[0m\u001b[0mnum1\u001b[0m \u001b[1;33m-\u001b[0m \u001b[0mnum2\u001b[0m\u001b[1;33m)\u001b[0m\u001b[1;33m\u001b[0m\u001b[1;33m\u001b[0m\u001b[0m\n\u001b[0;32m      3\u001b[0m \u001b[0mprint\u001b[0m\u001b[1;33m(\u001b[0m\u001b[0mnum1\u001b[0m \u001b[1;33m*\u001b[0m \u001b[0mnum2\u001b[0m\u001b[1;33m)\u001b[0m\u001b[1;33m\u001b[0m\u001b[1;33m\u001b[0m\u001b[0m\n",
      "\u001b[1;31mNameError\u001b[0m: name 'num1' is not defined"
     ]
    }
   ],
   "source": [
    "print(num1 + num2)\n",
    "print(num1 - num2)\n",
    "print(num1 * num2)"
   ]
  },
  {
   "cell_type": "code",
   "execution_count": 20,
   "id": "b6bcca88",
   "metadata": {},
   "outputs": [
    {
     "name": "stdout",
     "output_type": "stream",
     "text": [
      "Enter the First number: 5\n",
      "Enter the second number: 6\n"
     ]
    }
   ],
   "source": [
    "num1 = int(input('Enter the First number: '))\n",
    "num2 = int(input('Enter the second number: '))"
   ]
  },
  {
   "cell_type": "code",
   "execution_count": 21,
   "id": "6eb0d205",
   "metadata": {},
   "outputs": [
    {
     "data": {
      "text/plain": [
       "5"
      ]
     },
     "execution_count": 21,
     "metadata": {},
     "output_type": "execute_result"
    }
   ],
   "source": [
    "num1"
   ]
  },
  {
   "cell_type": "code",
   "execution_count": 22,
   "id": "79afc7c3",
   "metadata": {},
   "outputs": [
    {
     "data": {
      "text/plain": [
       "6"
      ]
     },
     "execution_count": 22,
     "metadata": {},
     "output_type": "execute_result"
    }
   ],
   "source": [
    "num2"
   ]
  },
  {
   "cell_type": "code",
   "execution_count": 23,
   "id": "9e722bf0",
   "metadata": {},
   "outputs": [
    {
     "name": "stdout",
     "output_type": "stream",
     "text": [
      "11\n",
      "-1\n",
      "30\n",
      "0.8333333333333334\n",
      "5\n",
      "15625\n"
     ]
    }
   ],
   "source": [
    "print(num1 + num2)\n",
    "print(num1 - num2)\n",
    "print(num1 * num2)\n",
    "print(num1 / num2)\n",
    "print(num1 % num2)\n",
    "print(num1 ** num2)"
   ]
  },
  {
   "cell_type": "code",
   "execution_count": 24,
   "id": "49a50350",
   "metadata": {},
   "outputs": [
    {
     "name": "stdout",
     "output_type": "stream",
     "text": [
      "Addition :  11\n",
      "Subtraction :  -1\n",
      "Multiplication :  30\n",
      "Division :  0.8333333333333334\n",
      "Reminder :  5\n",
      "Power :  15625\n"
     ]
    }
   ],
   "source": [
    "print('Addition : ' , num1 + num2)\n",
    "print('Subtraction : ' ,num1 - num2)\n",
    "print('Multiplication : ' ,num1 * num2)\n",
    "print('Division : ' ,num1 / num2)\n",
    "print('Reminder : ' ,num1 % num2)\n",
    "print('Power : ' ,num1 ** num2)"
   ]
  },
  {
   "cell_type": "code",
   "execution_count": 25,
   "id": "fbb87169",
   "metadata": {},
   "outputs": [
    {
     "name": "stdout",
     "output_type": "stream",
     "text": [
      "Addition :  5 6 11\n",
      "Subtraction :  5 6 -1\n",
      "Multiplication :  5 6 30\n",
      "Division :  5 6 0.8333333333333334\n",
      "Reminder :  5 6 5\n",
      "Power :  5 6 15625\n"
     ]
    }
   ],
   "source": [
    "print('Addition : ' ,num1,num2, num1 + num2)\n",
    "print('Subtraction : ' ,num1,num2, num1 - num2)\n",
    "print('Multiplication : ' ,num1,num2, num1 * num2)\n",
    "print('Division : ' ,num1,num2, num1 / num2)\n",
    "print('Reminder : ' ,num1,num2, num1 % num2)\n",
    "print('Power : ' ,num1,num2, num1 ** num2)"
   ]
  },
  {
   "cell_type": "code",
   "execution_count": 26,
   "id": "56d18243",
   "metadata": {},
   "outputs": [
    {
     "name": "stdout",
     "output_type": "stream",
     "text": [
      "Addition :  5 + 6 = 11\n",
      "Subtraction :  5 - 6 = -1\n",
      "Multiplication :  5 * 6 = 30\n",
      "Division :  5 / 6 = 0.8333333333333334\n",
      "Reminder :  5 6 = 5\n",
      "Power :  5 6 = 15625\n"
     ]
    }
   ],
   "source": [
    "print('Addition : ' ,num1,'+' ,num2,'=', num1 + num2)\n",
    "print('Subtraction : ' ,num1,'-',num2, '=',num1 - num2)\n",
    "print('Multiplication : ' ,num1,'*',num2, '=',num1 * num2)\n",
    "print('Division : ' ,num1,'/',num2, '=',num1 / num2)\n",
    "print('Reminder : ' ,num1,num2, '=',num1 % num2)\n",
    "print('Power : ' ,num1,num2,'=', num1 ** num2)"
   ]
  },
  {
   "cell_type": "code",
   "execution_count": null,
   "id": "0bdee34e",
   "metadata": {},
   "outputs": [],
   "source": []
  },
  {
   "cell_type": "code",
   "execution_count": null,
   "id": "4a73627e",
   "metadata": {},
   "outputs": [],
   "source": []
  },
  {
   "cell_type": "code",
   "execution_count": 33,
   "id": "a6465878",
   "metadata": {},
   "outputs": [
    {
     "name": "stdout",
     "output_type": "stream",
     "text": [
      "Enter the First number: 3\n",
      "Enter the second number: 8\n"
     ]
    }
   ],
   "source": [
    "num1 = float(input('Enter the First number: '))\n",
    "num2 = float(input('Enter the second number: '))"
   ]
  },
  {
   "cell_type": "code",
   "execution_count": 34,
   "id": "b024e6c9",
   "metadata": {},
   "outputs": [
    {
     "data": {
      "text/plain": [
       "3.0"
      ]
     },
     "execution_count": 34,
     "metadata": {},
     "output_type": "execute_result"
    }
   ],
   "source": [
    "num1"
   ]
  },
  {
   "cell_type": "code",
   "execution_count": 35,
   "id": "fbec4a93",
   "metadata": {},
   "outputs": [
    {
     "data": {
      "text/plain": [
       "8.0"
      ]
     },
     "execution_count": 35,
     "metadata": {},
     "output_type": "execute_result"
    }
   ],
   "source": [
    "num2"
   ]
  },
  {
   "cell_type": "code",
   "execution_count": 36,
   "id": "d0d5f559",
   "metadata": {},
   "outputs": [
    {
     "name": "stdout",
     "output_type": "stream",
     "text": [
      "11.0\n",
      "-5.0\n",
      "24.0\n",
      "0.375\n",
      "3.0\n",
      "6561.0\n"
     ]
    }
   ],
   "source": [
    "print(num1 + num2)\n",
    "print(num1 - num2)\n",
    "print(num1 * num2)\n",
    "print(num1 / num2)\n",
    "print(num1 % num2)\n",
    "print(num1 ** num2)"
   ]
  },
  {
   "cell_type": "code",
   "execution_count": 37,
   "id": "23a150eb",
   "metadata": {},
   "outputs": [
    {
     "name": "stdout",
     "output_type": "stream",
     "text": [
      "Addition :  11.0\n",
      "Subtraction :  -5.0\n",
      "Multiplication :  24.0\n",
      "Division :  0.375\n",
      "Reminder :  3.0\n",
      "Power :  6561.0\n"
     ]
    }
   ],
   "source": [
    "print('Addition : ' , num1 + num2)\n",
    "print('Subtraction : ' ,num1 - num2)\n",
    "print('Multiplication : ' ,num1 * num2)\n",
    "print('Division : ' ,num1 / num2)\n",
    "print('Reminder : ' ,num1 % num2)\n",
    "print('Power : ' ,num1 ** num2)"
   ]
  },
  {
   "cell_type": "code",
   "execution_count": 38,
   "id": "10e1f497",
   "metadata": {},
   "outputs": [
    {
     "name": "stdout",
     "output_type": "stream",
     "text": [
      "Addition :  3.0 + 8.0 = 11.0\n",
      "Subtraction :  3.0 - 8.0 = -5.0\n",
      "Multiplication :  3.0 * 8.0 = 24.0\n",
      "Division :  3.0 / 8.0 = 0.375\n",
      "Reminder :  3.0 8.0 = 3.0\n",
      "Power :  3.0 8.0 = 6561.0\n"
     ]
    }
   ],
   "source": [
    "print('Addition : ' ,num1,'+' ,num2,'=', num1 + num2)\n",
    "print('Subtraction : ' ,num1,'-',num2, '=',num1 - num2)\n",
    "print('Multiplication : ' ,num1,'*',num2, '=',num1 * num2)\n",
    "print('Division : ' ,num1,'/',num2, '=',num1 / num2)\n",
    "print('Reminder : ' ,num1,num2, '=',num1 % num2)\n",
    "print('Power : ' ,num1,num2,'=', num1 ** num2)"
   ]
  },
  {
   "cell_type": "code",
   "execution_count": null,
   "id": "f9da3187",
   "metadata": {},
   "outputs": [],
   "source": []
  },
  {
   "cell_type": "code",
   "execution_count": null,
   "id": "2497de48",
   "metadata": {},
   "outputs": [],
   "source": []
  },
  {
   "cell_type": "code",
   "execution_count": null,
   "id": "0441a79e",
   "metadata": {},
   "outputs": [],
   "source": []
  },
  {
   "cell_type": "markdown",
   "id": "9f0997dd",
   "metadata": {},
   "source": [
    "# ARITHMETIC OPERATION"
   ]
  },
  {
   "cell_type": "code",
   "execution_count": 39,
   "id": "f704ab6c",
   "metadata": {},
   "outputs": [
    {
     "data": {
      "text/plain": [
       "25"
      ]
     },
     "execution_count": 39,
     "metadata": {},
     "output_type": "execute_result"
    }
   ],
   "source": [
    "12 + 13"
   ]
  },
  {
   "cell_type": "code",
   "execution_count": 41,
   "id": "c885fe79",
   "metadata": {},
   "outputs": [
    {
     "data": {
      "text/plain": [
       "-1"
      ]
     },
     "execution_count": 41,
     "metadata": {},
     "output_type": "execute_result"
    }
   ],
   "source": [
    "12 - 13"
   ]
  },
  {
   "cell_type": "code",
   "execution_count": 42,
   "id": "b55b8f10",
   "metadata": {},
   "outputs": [
    {
     "data": {
      "text/plain": [
       "0.5"
      ]
     },
     "execution_count": 42,
     "metadata": {},
     "output_type": "execute_result"
    }
   ],
   "source": [
    "12 / 24"
   ]
  },
  {
   "cell_type": "code",
   "execution_count": 44,
   "id": "8469fa0e",
   "metadata": {},
   "outputs": [
    {
     "data": {
      "text/plain": [
       "24"
      ]
     },
     "execution_count": 44,
     "metadata": {},
     "output_type": "execute_result"
    }
   ],
   "source": [
    "12 * 2"
   ]
  },
  {
   "cell_type": "code",
   "execution_count": 45,
   "id": "227dda23",
   "metadata": {},
   "outputs": [
    {
     "data": {
      "text/plain": [
       "1"
      ]
     },
     "execution_count": 45,
     "metadata": {},
     "output_type": "execute_result"
    }
   ],
   "source": [
    "23 % 2"
   ]
  },
  {
   "cell_type": "code",
   "execution_count": 46,
   "id": "1d5d9389",
   "metadata": {},
   "outputs": [
    {
     "data": {
      "text/plain": [
       "8"
      ]
     },
     "execution_count": 46,
     "metadata": {},
     "output_type": "execute_result"
    }
   ],
   "source": [
    "2**3"
   ]
  },
  {
   "cell_type": "code",
   "execution_count": null,
   "id": "83bc8832",
   "metadata": {},
   "outputs": [],
   "source": []
  },
  {
   "cell_type": "markdown",
   "id": "042b64de",
   "metadata": {},
   "source": [
    "# ASSIGNMENT OPERATOR"
   ]
  },
  {
   "cell_type": "code",
   "execution_count": 67,
   "id": "347ad69a",
   "metadata": {},
   "outputs": [],
   "source": [
    "a = 12"
   ]
  },
  {
   "cell_type": "code",
   "execution_count": 68,
   "id": "1181c19e",
   "metadata": {},
   "outputs": [
    {
     "data": {
      "text/plain": [
       "12"
      ]
     },
     "execution_count": 68,
     "metadata": {},
     "output_type": "execute_result"
    }
   ],
   "source": [
    "a"
   ]
  },
  {
   "cell_type": "code",
   "execution_count": 69,
   "id": "9708c798",
   "metadata": {},
   "outputs": [],
   "source": [
    "a = a+1 "
   ]
  },
  {
   "cell_type": "code",
   "execution_count": 70,
   "id": "ee47a093",
   "metadata": {},
   "outputs": [],
   "source": [
    "a +=1 #this is also equal to above code"
   ]
  },
  {
   "cell_type": "code",
   "execution_count": 71,
   "id": "2a2d4ae1",
   "metadata": {},
   "outputs": [
    {
     "data": {
      "text/plain": [
       "14"
      ]
     },
     "execution_count": 71,
     "metadata": {},
     "output_type": "execute_result"
    }
   ],
   "source": [
    "a"
   ]
  },
  {
   "cell_type": "code",
   "execution_count": null,
   "id": "dcde1edc",
   "metadata": {},
   "outputs": [],
   "source": []
  },
  {
   "cell_type": "code",
   "execution_count": 72,
   "id": "5ad39048",
   "metadata": {},
   "outputs": [],
   "source": [
    "a +=1"
   ]
  },
  {
   "cell_type": "code",
   "execution_count": 73,
   "id": "90ab204f",
   "metadata": {},
   "outputs": [
    {
     "data": {
      "text/plain": [
       "15"
      ]
     },
     "execution_count": 73,
     "metadata": {},
     "output_type": "execute_result"
    }
   ],
   "source": [
    "a"
   ]
  },
  {
   "cell_type": "code",
   "execution_count": 74,
   "id": "444b10c9",
   "metadata": {},
   "outputs": [],
   "source": [
    "a -=1"
   ]
  },
  {
   "cell_type": "code",
   "execution_count": 75,
   "id": "9ab9b432",
   "metadata": {},
   "outputs": [
    {
     "data": {
      "text/plain": [
       "14"
      ]
     },
     "execution_count": 75,
     "metadata": {},
     "output_type": "execute_result"
    }
   ],
   "source": [
    "a"
   ]
  },
  {
   "cell_type": "code",
   "execution_count": 76,
   "id": "79e4f009",
   "metadata": {},
   "outputs": [],
   "source": [
    "a *=2"
   ]
  },
  {
   "cell_type": "code",
   "execution_count": 77,
   "id": "af68001b",
   "metadata": {},
   "outputs": [
    {
     "data": {
      "text/plain": [
       "28"
      ]
     },
     "execution_count": 77,
     "metadata": {},
     "output_type": "execute_result"
    }
   ],
   "source": [
    "a"
   ]
  },
  {
   "cell_type": "code",
   "execution_count": 78,
   "id": "d3cfae2e",
   "metadata": {},
   "outputs": [],
   "source": [
    "a /= 2"
   ]
  },
  {
   "cell_type": "code",
   "execution_count": 79,
   "id": "3c656cbb",
   "metadata": {},
   "outputs": [
    {
     "data": {
      "text/plain": [
       "14.0"
      ]
     },
     "execution_count": 79,
     "metadata": {},
     "output_type": "execute_result"
    }
   ],
   "source": [
    "a"
   ]
  },
  {
   "cell_type": "code",
   "execution_count": 80,
   "id": "fbeb831f",
   "metadata": {},
   "outputs": [],
   "source": [
    "a %=2"
   ]
  },
  {
   "cell_type": "code",
   "execution_count": 81,
   "id": "6196c8a7",
   "metadata": {},
   "outputs": [
    {
     "data": {
      "text/plain": [
       "0.0"
      ]
     },
     "execution_count": 81,
     "metadata": {},
     "output_type": "execute_result"
    }
   ],
   "source": [
    "a"
   ]
  },
  {
   "cell_type": "code",
   "execution_count": null,
   "id": "13af9d89",
   "metadata": {},
   "outputs": [],
   "source": []
  },
  {
   "cell_type": "code",
   "execution_count": null,
   "id": "f9fd58f4",
   "metadata": {},
   "outputs": [],
   "source": []
  },
  {
   "cell_type": "markdown",
   "id": "891d50b8",
   "metadata": {},
   "source": [
    "# COMAPRISION OPERATOR"
   ]
  },
  {
   "cell_type": "code",
   "execution_count": 95,
   "id": "9b180225",
   "metadata": {},
   "outputs": [],
   "source": [
    "a=10\n",
    "b=12"
   ]
  },
  {
   "cell_type": "code",
   "execution_count": 96,
   "id": "fb75664a",
   "metadata": {},
   "outputs": [
    {
     "data": {
      "text/plain": [
       "False"
      ]
     },
     "execution_count": 96,
     "metadata": {},
     "output_type": "execute_result"
    }
   ],
   "source": [
    "a == b"
   ]
  },
  {
   "cell_type": "code",
   "execution_count": 97,
   "id": "586eaa67",
   "metadata": {},
   "outputs": [
    {
     "data": {
      "text/plain": [
       "True"
      ]
     },
     "execution_count": 97,
     "metadata": {},
     "output_type": "execute_result"
    }
   ],
   "source": [
    "a != b"
   ]
  },
  {
   "cell_type": "code",
   "execution_count": 98,
   "id": "f4e9cbee",
   "metadata": {},
   "outputs": [
    {
     "data": {
      "text/plain": [
       "False"
      ]
     },
     "execution_count": 98,
     "metadata": {},
     "output_type": "execute_result"
    }
   ],
   "source": [
    "a > b"
   ]
  },
  {
   "cell_type": "code",
   "execution_count": 99,
   "id": "fbddbd27",
   "metadata": {},
   "outputs": [
    {
     "data": {
      "text/plain": [
       "True"
      ]
     },
     "execution_count": 99,
     "metadata": {},
     "output_type": "execute_result"
    }
   ],
   "source": [
    "b> a"
   ]
  },
  {
   "cell_type": "code",
   "execution_count": 100,
   "id": "198fdccf",
   "metadata": {},
   "outputs": [
    {
     "data": {
      "text/plain": [
       "False"
      ]
     },
     "execution_count": 100,
     "metadata": {},
     "output_type": "execute_result"
    }
   ],
   "source": [
    "a >= b"
   ]
  },
  {
   "cell_type": "code",
   "execution_count": 101,
   "id": "0648e447",
   "metadata": {},
   "outputs": [
    {
     "data": {
      "text/plain": [
       "True"
      ]
     },
     "execution_count": 101,
     "metadata": {},
     "output_type": "execute_result"
    }
   ],
   "source": [
    "b>=a"
   ]
  },
  {
   "cell_type": "code",
   "execution_count": null,
   "id": "2387ecea",
   "metadata": {},
   "outputs": [],
   "source": []
  },
  {
   "cell_type": "code",
   "execution_count": null,
   "id": "e422b606",
   "metadata": {},
   "outputs": [],
   "source": []
  },
  {
   "cell_type": "code",
   "execution_count": 102,
   "id": "c4460fe4",
   "metadata": {},
   "outputs": [],
   "source": [
    "a=10\n",
    "b=10"
   ]
  },
  {
   "cell_type": "code",
   "execution_count": 103,
   "id": "f3f56629",
   "metadata": {},
   "outputs": [
    {
     "data": {
      "text/plain": [
       "True"
      ]
     },
     "execution_count": 103,
     "metadata": {},
     "output_type": "execute_result"
    }
   ],
   "source": [
    "a==b"
   ]
  },
  {
   "cell_type": "code",
   "execution_count": 104,
   "id": "72b63f66",
   "metadata": {},
   "outputs": [
    {
     "data": {
      "text/plain": [
       "False"
      ]
     },
     "execution_count": 104,
     "metadata": {},
     "output_type": "execute_result"
    }
   ],
   "source": [
    "a!=b"
   ]
  },
  {
   "cell_type": "code",
   "execution_count": 105,
   "id": "3d6e5fd9",
   "metadata": {},
   "outputs": [
    {
     "data": {
      "text/plain": [
       "False"
      ]
     },
     "execution_count": 105,
     "metadata": {},
     "output_type": "execute_result"
    }
   ],
   "source": [
    "a > b"
   ]
  },
  {
   "cell_type": "code",
   "execution_count": 106,
   "id": "97371120",
   "metadata": {},
   "outputs": [
    {
     "data": {
      "text/plain": [
       "False"
      ]
     },
     "execution_count": 106,
     "metadata": {},
     "output_type": "execute_result"
    }
   ],
   "source": [
    "b>a"
   ]
  },
  {
   "cell_type": "code",
   "execution_count": 107,
   "id": "798ea3cf",
   "metadata": {},
   "outputs": [
    {
     "data": {
      "text/plain": [
       "True"
      ]
     },
     "execution_count": 107,
     "metadata": {},
     "output_type": "execute_result"
    }
   ],
   "source": [
    "a>=b"
   ]
  },
  {
   "cell_type": "code",
   "execution_count": null,
   "id": "c5534827",
   "metadata": {},
   "outputs": [],
   "source": []
  }
 ],
 "metadata": {
  "kernelspec": {
   "display_name": "Python 3",
   "language": "python",
   "name": "python3"
  },
  "language_info": {
   "codemirror_mode": {
    "name": "ipython",
    "version": 3
   },
   "file_extension": ".py",
   "mimetype": "text/x-python",
   "name": "python",
   "nbconvert_exporter": "python",
   "pygments_lexer": "ipython3",
   "version": "3.8.8"
  }
 },
 "nbformat": 4,
 "nbformat_minor": 5
}
